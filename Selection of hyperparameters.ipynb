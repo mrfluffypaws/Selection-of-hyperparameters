{
 "cells": [
  {
   "cell_type": "markdown",
   "metadata": {},
   "source": [
    "#### <center> Задача\n",
    "Необходимо обучить две модели: логистическую регрессию и случайный лес. Далее нужно сделать подбор гиперпараметров с помощью базовых и продвинутых методов оптимизации. Важно использовать все четыре метода (GridSeachCV, RandomizedSearchCV, Hyperopt, Optuna) хотя бы по разу, максимальное количество итераций не должно превышать 50."
   ]
  },
  {
   "cell_type": "markdown",
   "metadata": {},
   "source": [
    "#### <center> Критерий оценивания\n",
    "\n",
    "| Балл | Критерий                                                                 |\n",
    "|------|--------------------------------------------------------------------------|\n",
    "| 0    | Задание не выполнено                                                     |\n",
    "| 1    | Обучено две модели; гипепараметры подобраны при помощи одного метода     |\n",
    "| 2    | Обучено две модели; гипепараметры подобраны при помощи двух методов      |\n",
    "| 3    | Обучено две модели; гипепараметры подобраны при помощи трёх методов      |\n",
    "| 4    | Обучено две модели; гипепараметры подобраны при помощи четырёх методов   |\n",
    "| 5    | Обучено две модели; гипепараметры подобраны при помощи четырёх методов; использована кросс-валидация  |"
   ]
  },
  {
   "cell_type": "markdown",
   "metadata": {},
   "source": [
    "#### <center> Импортирую библиотеки"
   ]
  },
  {
   "cell_type": "code",
   "execution_count": 22,
   "metadata": {},
   "outputs": [],
   "source": [
    "import pandas as pd\n",
    "import numpy as np\n",
    "\n",
    "from sklearn import linear_model\n",
    "from sklearn import ensemble\n",
    "from sklearn import metrics\n",
    "from sklearn.model_selection import train_test_split\n",
    "from sklearn.model_selection import GridSearchCV\n",
    "from sklearn.model_selection import RandomizedSearchCV\n",
    "from sklearn.model_selection import cross_val_score\n",
    "import hyperopt\n",
    "from hyperopt import hp, fmin, tpe, Trials\n",
    "import optuna\n",
    "\n",
    "import warnings \n",
    "warnings.filterwarnings('ignore')"
   ]
  },
  {
   "cell_type": "markdown",
   "metadata": {},
   "source": [
    "#### <center> Выгружаю данные"
   ]
  },
  {
   "cell_type": "code",
   "execution_count": 2,
   "metadata": {},
   "outputs": [
    {
     "data": {
      "text/html": [
       "<div>\n",
       "<style scoped>\n",
       "    .dataframe tbody tr th:only-of-type {\n",
       "        vertical-align: middle;\n",
       "    }\n",
       "\n",
       "    .dataframe tbody tr th {\n",
       "        vertical-align: top;\n",
       "    }\n",
       "\n",
       "    .dataframe thead th {\n",
       "        text-align: right;\n",
       "    }\n",
       "</style>\n",
       "<table border=\"1\" class=\"dataframe\">\n",
       "  <thead>\n",
       "    <tr style=\"text-align: right;\">\n",
       "      <th></th>\n",
       "      <th>Activity</th>\n",
       "      <th>D1</th>\n",
       "      <th>D2</th>\n",
       "      <th>D3</th>\n",
       "      <th>D4</th>\n",
       "      <th>D5</th>\n",
       "      <th>D6</th>\n",
       "      <th>D7</th>\n",
       "      <th>D8</th>\n",
       "      <th>D9</th>\n",
       "      <th>...</th>\n",
       "      <th>D1767</th>\n",
       "      <th>D1768</th>\n",
       "      <th>D1769</th>\n",
       "      <th>D1770</th>\n",
       "      <th>D1771</th>\n",
       "      <th>D1772</th>\n",
       "      <th>D1773</th>\n",
       "      <th>D1774</th>\n",
       "      <th>D1775</th>\n",
       "      <th>D1776</th>\n",
       "    </tr>\n",
       "  </thead>\n",
       "  <tbody>\n",
       "    <tr>\n",
       "      <th>0</th>\n",
       "      <td>1</td>\n",
       "      <td>0.000000</td>\n",
       "      <td>0.497009</td>\n",
       "      <td>0.10</td>\n",
       "      <td>0.0</td>\n",
       "      <td>0.132956</td>\n",
       "      <td>0.678031</td>\n",
       "      <td>0.273166</td>\n",
       "      <td>0.585445</td>\n",
       "      <td>0.743663</td>\n",
       "      <td>...</td>\n",
       "      <td>0</td>\n",
       "      <td>0</td>\n",
       "      <td>0</td>\n",
       "      <td>0</td>\n",
       "      <td>0</td>\n",
       "      <td>0</td>\n",
       "      <td>0</td>\n",
       "      <td>0</td>\n",
       "      <td>0</td>\n",
       "      <td>0</td>\n",
       "    </tr>\n",
       "    <tr>\n",
       "      <th>1</th>\n",
       "      <td>1</td>\n",
       "      <td>0.366667</td>\n",
       "      <td>0.606291</td>\n",
       "      <td>0.05</td>\n",
       "      <td>0.0</td>\n",
       "      <td>0.111209</td>\n",
       "      <td>0.803455</td>\n",
       "      <td>0.106105</td>\n",
       "      <td>0.411754</td>\n",
       "      <td>0.836582</td>\n",
       "      <td>...</td>\n",
       "      <td>1</td>\n",
       "      <td>1</td>\n",
       "      <td>1</td>\n",
       "      <td>1</td>\n",
       "      <td>0</td>\n",
       "      <td>1</td>\n",
       "      <td>0</td>\n",
       "      <td>0</td>\n",
       "      <td>1</td>\n",
       "      <td>0</td>\n",
       "    </tr>\n",
       "    <tr>\n",
       "      <th>2</th>\n",
       "      <td>1</td>\n",
       "      <td>0.033300</td>\n",
       "      <td>0.480124</td>\n",
       "      <td>0.00</td>\n",
       "      <td>0.0</td>\n",
       "      <td>0.209791</td>\n",
       "      <td>0.610350</td>\n",
       "      <td>0.356453</td>\n",
       "      <td>0.517720</td>\n",
       "      <td>0.679051</td>\n",
       "      <td>...</td>\n",
       "      <td>0</td>\n",
       "      <td>0</td>\n",
       "      <td>0</td>\n",
       "      <td>0</td>\n",
       "      <td>0</td>\n",
       "      <td>0</td>\n",
       "      <td>0</td>\n",
       "      <td>0</td>\n",
       "      <td>0</td>\n",
       "      <td>0</td>\n",
       "    </tr>\n",
       "  </tbody>\n",
       "</table>\n",
       "<p>3 rows × 1777 columns</p>\n",
       "</div>"
      ],
      "text/plain": [
       "   Activity        D1        D2    D3   D4        D5        D6        D7  \\\n",
       "0         1  0.000000  0.497009  0.10  0.0  0.132956  0.678031  0.273166   \n",
       "1         1  0.366667  0.606291  0.05  0.0  0.111209  0.803455  0.106105   \n",
       "2         1  0.033300  0.480124  0.00  0.0  0.209791  0.610350  0.356453   \n",
       "\n",
       "         D8        D9  ...  D1767  D1768  D1769  D1770  D1771  D1772  D1773  \\\n",
       "0  0.585445  0.743663  ...      0      0      0      0      0      0      0   \n",
       "1  0.411754  0.836582  ...      1      1      1      1      0      1      0   \n",
       "2  0.517720  0.679051  ...      0      0      0      0      0      0      0   \n",
       "\n",
       "   D1774  D1775  D1776  \n",
       "0      0      0      0  \n",
       "1      0      1      0  \n",
       "2      0      0      0  \n",
       "\n",
       "[3 rows x 1777 columns]"
      ]
     },
     "execution_count": 2,
     "metadata": {},
     "output_type": "execute_result"
    }
   ],
   "source": [
    "data = pd.read_csv('data/_train_sem09 (1).csv')\n",
    "data.head(3)"
   ]
  },
  {
   "cell_type": "markdown",
   "metadata": {},
   "source": [
    "###  Информация о данных:\n",
    " \n",
    "* Activity - содержит экспериментальные данные, описывающие фактический биологический ответ [0, 1]; \n",
    "* Столбцы D1 - D1776 представляют собой молекулярные дескрипторы — это вычисляемые свойства, которые могут фиксировать некоторые характеристики молекулы, например размер, форму или состав элементов.\n"
   ]
  },
  {
   "cell_type": "markdown",
   "metadata": {},
   "source": [
    "#### <center> Обучение модели"
   ]
  },
  {
   "cell_type": "markdown",
   "metadata": {},
   "source": [
    "#### Разделяю данные на матрицу наблюдений и вектор правильных ответов"
   ]
  },
  {
   "cell_type": "code",
   "execution_count": 5,
   "metadata": {},
   "outputs": [],
   "source": [
    "x = data.drop('Activity', axis= 1)\n",
    "y = data['Activity']"
   ]
  },
  {
   "cell_type": "markdown",
   "metadata": {},
   "source": [
    "#### Создаю тренировочный и тестовый наборы данных"
   ]
  },
  {
   "cell_type": "code",
   "execution_count": 8,
   "metadata": {},
   "outputs": [],
   "source": [
    "X_train, X_test, y_train, y_test = train_test_split(x, y, test_size=0.2, random_state=42)"
   ]
  },
  {
   "cell_type": "markdown",
   "metadata": {},
   "source": [
    "#### <center> Обучение логистической регрессии"
   ]
  },
  {
   "cell_type": "markdown",
   "metadata": {},
   "source": [
    "#### Создание модели логистической регрессии"
   ]
  },
  {
   "cell_type": "code",
   "execution_count": 9,
   "metadata": {},
   "outputs": [
    {
     "name": "stdout",
     "output_type": "stream",
     "text": [
      "f1 test score: 0.79\n"
     ]
    }
   ],
   "source": [
    "log_model = linear_model.LogisticRegression(random_state=42, max_iter=1000)\n",
    "log_model.fit(X_train, y_train)\n",
    "print('f1 test score: {:.2f}'.format(metrics.f1_score(y_test, log_model.predict(X_test))))"
   ]
  },
  {
   "cell_type": "markdown",
   "metadata": {},
   "source": [
    "#### Подбор гиперпараметров с помощью GridSearchCV"
   ]
  },
  {
   "cell_type": "code",
   "execution_count": 20,
   "metadata": {},
   "outputs": [
    {
     "name": "stdout",
     "output_type": "stream",
     "text": [
      "f1 test score: 0.78\n",
      "best hyperparameter values: {'penalty': 'l1', 'solver': 'liblinear'}\n"
     ]
    }
   ],
   "source": [
    "param_grid = [\n",
    "              {'penalty': ['l2', 'none'], \n",
    "              'solver': ['lbfgs', 'sag']}, \n",
    "              \n",
    "              {'penalty': ['l1', 'l2'] ,\n",
    "              'solver': ['liblinear', 'saga']}\n",
    "]\n",
    "grid_search = GridSearchCV(\n",
    "    estimator=linear_model.LogisticRegression(random_state=42, max_iter=1000), \n",
    "    param_grid=param_grid, \n",
    "    cv=5, \n",
    "    n_jobs = -1\n",
    ")  \n",
    "grid_search.fit(X_train, y_train) \n",
    "print('f1 test score: {:.2f}'.format(metrics.f1_score(y_test, grid_search.predict(X_test))))\n",
    "print('best hyperparameter values: {}'.format(grid_search.best_params_))"
   ]
  },
  {
   "cell_type": "markdown",
   "metadata": {},
   "source": [
    "#### Подбор гиперпараметров с помощью RandomizedSearchCV"
   ]
  },
  {
   "cell_type": "code",
   "execution_count": 21,
   "metadata": {},
   "outputs": [
    {
     "name": "stdout",
     "output_type": "stream",
     "text": [
      "f1 test score: 0.79\n",
      "best hyperparameter values: {'solver': 'sag', 'penalty': 'l2', 'C': 0.12}\n"
     ]
    }
   ],
   "source": [
    "param_distributions = {'penalty': ['l2', 'none'],\n",
    "              'solver': ['lbfgs', 'sag'],\n",
    "               'C': list(np.linspace(0.01, 1, 10, dtype=float))}\n",
    "            \n",
    "random_search = RandomizedSearchCV(\n",
    "    estimator=linear_model.LogisticRegression(random_state=42, max_iter=1000), \n",
    "    param_distributions=param_distributions, \n",
    "    cv=5, \n",
    "    n_iter = 10, \n",
    "    n_jobs = -1\n",
    ")  \n",
    "random_search.fit(X_train, y_train) \n",
    "print('f1 test score: {:.2f}'.format(metrics.f1_score(y_test, random_search.predict(X_test))))\n",
    "print('best hyperparameter values: {}'.format(random_search.best_params_))"
   ]
  },
  {
   "cell_type": "markdown",
   "metadata": {},
   "source": [
    "#### Подбор гиперпараметров с помощью библиотеки Hyperopt"
   ]
  },
  {
   "cell_type": "code",
   "execution_count": 28,
   "metadata": {},
   "outputs": [],
   "source": [
    "random_state = 42\n",
    "\n",
    "space = {\n",
    "    'solver': hp.choice('solver', ['lbfgs', 'sag']),\n",
    "    'penalty': hp.choice('penalty', ['l2']),\n",
    "    'C': hp.loguniform('C', np.log(0.001), np.log(1))\n",
    "}\n",
    "\n",
    "def hyperopt_log(params, cv=5, X=X_train, y=y_train, random_state=random_state):\n",
    "    \n",
    "    params = {'solver': str(params['solver']), \n",
    "             'penalty': str(params['penalty']), \n",
    "             'C': float(params['C'])\n",
    "              }\n",
    "    \n",
    "    model = linear_model.LogisticRegression(**params, random_state=random_state)\n",
    "    score = cross_val_score(model, X, y, cv=5, scoring='f1', n_jobs=-1).mean()\n",
    "    return -score"
   ]
  },
  {
   "cell_type": "code",
   "execution_count": 30,
   "metadata": {},
   "outputs": [
    {
     "name": "stdout",
     "output_type": "stream",
     "text": [
      "100%|██████████| 20/20 [00:45<00:00,  2.29s/trial, best loss: -0.7852193385451705]\n",
      "best hyperparameter values: {'C': 0.06675090446914045, 'penalty': 0, 'solver': 1}\n"
     ]
    }
   ],
   "source": [
    "trials = Trials()\n",
    "\n",
    "best = fmin(\n",
    "    fn=hyperopt_log,\n",
    "    space=space,\n",
    "    algo=tpe.suggest,\n",
    "    max_evals=20,\n",
    "    trials=trials,\n",
    "    rstate=np.random.default_rng(random_state)\n",
    ")\n",
    "\n",
    "print(f'best hyperparameter values: {best}')"
   ]
  },
  {
   "cell_type": "code",
   "execution_count": 38,
   "metadata": {},
   "outputs": [
    {
     "name": "stdout",
     "output_type": "stream",
     "text": [
      "f1 test score: 0.79\n"
     ]
    }
   ],
   "source": [
    "model_hyperopt_log = linear_model.LogisticRegression(\n",
    "    random_state=random_state, \n",
    "    penalty='l2',\n",
    "    solver='sag',\n",
    "    C=best['C']\n",
    ")\n",
    "model_hyperopt_log.fit(X_train, y_train)\n",
    "print('f1 test score: {:.2f}'.format(metrics.f1_score(y_test, model_hyperopt_log.predict(X_test))))"
   ]
  },
  {
   "cell_type": "markdown",
   "metadata": {},
   "source": [
    "#### Подбор гиперпараметров с помощью библиотеки Optuna"
   ]
  },
  {
   "cell_type": "code",
   "execution_count": 45,
   "metadata": {},
   "outputs": [],
   "source": [
    "def optuna_log(trial):\n",
    "    solver = trial.suggest_categorical('solver', ['lbfgs', 'saga'])\n",
    "    penalty = trial.suggest_categorical('penalty', ['l2'])\n",
    "    C = trial.suggest_loguniform('C', 0.001, 1.0)\n",
    "    \n",
    "\n",
    "    model = linear_model.LogisticRegression(solver=solver, \n",
    "                                            penalty=penalty, \n",
    "                                            C=C, \n",
    "                                            max_iter=1000, \n",
    "                                            random_state=random_state)\n",
    "    model.fit(X_train, y_train)\n",
    "    score = cross_val_score(model, X_train, y_train, cv=5, scoring='f1', n_jobs=-1).mean()\n",
    "\n",
    "    return score"
   ]
  },
  {
   "cell_type": "code",
   "execution_count": 46,
   "metadata": {},
   "outputs": [
    {
     "name": "stderr",
     "output_type": "stream",
     "text": [
      "[I 2024-06-19 15:08:28,461] A new study created in memory with name: LogisticRegression\n",
      "[I 2024-06-19 15:08:36,073] Trial 0 finished with value: 0.7622075595841825 and parameters: {'solver': 'saga', 'penalty': 'l2', 'C': 0.0026634831206733384}. Best is trial 0 with value: 0.7622075595841825.\n",
      "[I 2024-06-19 15:08:38,474] Trial 1 finished with value: 0.782727851898531 and parameters: {'solver': 'lbfgs', 'penalty': 'l2', 'C': 0.023219312349087747}. Best is trial 1 with value: 0.782727851898531.\n",
      "[I 2024-06-19 15:08:41,789] Trial 2 finished with value: 0.7800286937008891 and parameters: {'solver': 'lbfgs', 'penalty': 'l2', 'C': 0.22178003856327774}. Best is trial 1 with value: 0.782727851898531.\n",
      "[I 2024-06-19 15:08:42,854] Trial 3 finished with value: 0.7744793325663044 and parameters: {'solver': 'lbfgs', 'penalty': 'l2', 'C': 0.007072474905209571}. Best is trial 1 with value: 0.782727851898531.\n",
      "[I 2024-06-19 15:08:43,638] Trial 4 finished with value: 0.757276342785774 and parameters: {'solver': 'lbfgs', 'penalty': 'l2', 'C': 0.0021603486078428605}. Best is trial 1 with value: 0.782727851898531.\n",
      "[I 2024-06-19 15:08:44,836] Trial 5 finished with value: 0.7803566627076203 and parameters: {'solver': 'lbfgs', 'penalty': 'l2', 'C': 0.018159885297288375}. Best is trial 1 with value: 0.782727851898531.\n",
      "[I 2024-06-19 15:08:45,739] Trial 6 finished with value: 0.7700934067419796 and parameters: {'solver': 'lbfgs', 'penalty': 'l2', 'C': 0.0051156654294527825}. Best is trial 1 with value: 0.782727851898531.\n",
      "[I 2024-06-19 15:09:16,147] Trial 7 finished with value: 0.7732578896112207 and parameters: {'solver': 'saga', 'penalty': 'l2', 'C': 0.532018007612262}. Best is trial 1 with value: 0.782727851898531.\n",
      "[I 2024-06-19 15:09:59,191] Trial 8 finished with value: 0.7694837890635526 and parameters: {'solver': 'saga', 'penalty': 'l2', 'C': 0.8276036613324007}. Best is trial 1 with value: 0.782727851898531.\n",
      "[I 2024-06-19 15:10:27,403] Trial 9 finished with value: 0.7805387867149921 and parameters: {'solver': 'saga', 'penalty': 'l2', 'C': 0.18704359268779677}. Best is trial 1 with value: 0.782727851898531.\n",
      "[I 2024-06-19 15:10:28,969] Trial 10 finished with value: 0.7862733603891575 and parameters: {'solver': 'lbfgs', 'penalty': 'l2', 'C': 0.04245847805758067}. Best is trial 10 with value: 0.7862733603891575.\n",
      "[I 2024-06-19 15:10:30,601] Trial 11 finished with value: 0.7868854479233717 and parameters: {'solver': 'lbfgs', 'penalty': 'l2', 'C': 0.041840088995997705}. Best is trial 11 with value: 0.7868854479233717.\n",
      "[I 2024-06-19 15:10:32,601] Trial 12 finished with value: 0.7865571275555749 and parameters: {'solver': 'lbfgs', 'penalty': 'l2', 'C': 0.08551858109054626}. Best is trial 11 with value: 0.7868854479233717.\n",
      "[I 2024-06-19 15:10:34,469] Trial 13 finished with value: 0.7851795682378343 and parameters: {'solver': 'lbfgs', 'penalty': 'l2', 'C': 0.07694357379600238}. Best is trial 11 with value: 0.7868854479233717.\n",
      "[I 2024-06-19 15:10:36,452] Trial 14 finished with value: 0.7865571275555749 and parameters: {'solver': 'lbfgs', 'penalty': 'l2', 'C': 0.08669011792840761}. Best is trial 11 with value: 0.7868854479233717.\n",
      "[I 2024-06-19 15:10:37,556] Trial 15 finished with value: 0.7771443365840233 and parameters: {'solver': 'lbfgs', 'penalty': 'l2', 'C': 0.011236039350256556}. Best is trial 11 with value: 0.7868854479233717.\n",
      "[I 2024-06-19 15:10:39,254] Trial 16 finished with value: 0.7861522081489977 and parameters: {'solver': 'lbfgs', 'penalty': 'l2', 'C': 0.04861447083124651}. Best is trial 11 with value: 0.7868854479233717.\n",
      "[I 2024-06-19 15:10:41,854] Trial 17 finished with value: 0.7800258278633572 and parameters: {'solver': 'lbfgs', 'penalty': 'l2', 'C': 0.1751455626995532}. Best is trial 11 with value: 0.7868854479233717.\n",
      "[I 2024-06-19 15:11:07,330] Trial 18 finished with value: 0.7788682953454293 and parameters: {'solver': 'saga', 'penalty': 'l2', 'C': 0.32301833069168817}. Best is trial 11 with value: 0.7868854479233717.\n",
      "[I 2024-06-19 15:11:08,002] Trial 19 finished with value: 0.7472916278980748 and parameters: {'solver': 'lbfgs', 'penalty': 'l2', 'C': 0.0010931492468860798}. Best is trial 11 with value: 0.7868854479233717.\n"
     ]
    }
   ],
   "source": [
    "study = optuna.create_study(study_name='LogisticRegression', direction='maximize')\n",
    "study.optimize(optuna_log, n_trials=20)"
   ]
  },
  {
   "cell_type": "code",
   "execution_count": 48,
   "metadata": {},
   "outputs": [
    {
     "name": "stdout",
     "output_type": "stream",
     "text": [
      "best hyperparameter values: {'solver': 'lbfgs', 'penalty': 'l2', 'C': 0.041840088995997705}\n",
      "f1 train score: 0.79\n"
     ]
    }
   ],
   "source": [
    "print(f'best hyperparameter values: {study.best_params}')\n",
    "print('f1 train score: {:.2f}'.format(study.best_value))"
   ]
  },
  {
   "cell_type": "code",
   "execution_count": 49,
   "metadata": {},
   "outputs": [
    {
     "name": "stdout",
     "output_type": "stream",
     "text": [
      "f1 test score: 0.80\n"
     ]
    }
   ],
   "source": [
    "model_optuna_log = linear_model.LogisticRegression(**study.best_params,random_state=random_state)\n",
    "model_optuna_log.fit(X_train, y_train)\n",
    "print('f1 test score: {:.2f}'.format(metrics.f1_score(y_test, model_optuna_log.predict(X_test))))"
   ]
  },
  {
   "cell_type": "markdown",
   "metadata": {},
   "source": [
    "#### <center> Обучение случайного леса"
   ]
  },
  {
   "cell_type": "markdown",
   "metadata": {},
   "source": [
    "#### Создание модели случайного леса"
   ]
  },
  {
   "cell_type": "code",
   "execution_count": 50,
   "metadata": {},
   "outputs": [
    {
     "name": "stdout",
     "output_type": "stream",
     "text": [
      "f1 test score: 0.83\n"
     ]
    }
   ],
   "source": [
    "rf_model = ensemble.RandomForestClassifier(random_state=42)\n",
    "rf_model.fit(X_train, y_train)\n",
    "print('f1 test score: {:.2f}'.format(metrics.f1_score(y_test, rf_model.predict(X_test))))"
   ]
  },
  {
   "cell_type": "markdown",
   "metadata": {},
   "source": [
    "#### Подбор гиперпараметров с помощью GridSearchCV"
   ]
  },
  {
   "cell_type": "code",
   "execution_count": 54,
   "metadata": {},
   "outputs": [
    {
     "name": "stdout",
     "output_type": "stream",
     "text": [
      "f1 train score: 0.83\n",
      "best hyperparameter values: {'max_depth': 15, 'min_samples_leaf': 5, 'n_estimators': 130}\n"
     ]
    }
   ],
   "source": [
    "param_grid = {'n_estimators': list(range(100, 200, 30)),\n",
    "              'min_samples_leaf': [5, 7],\n",
    "              'max_depth': [10, 15, 20, 25]\n",
    "              }\n",
    "            \n",
    "grid_search_rf = GridSearchCV(\n",
    "    estimator=ensemble.RandomForestClassifier(random_state=42), \n",
    "    param_grid=param_grid, \n",
    "    cv=5, \n",
    "    n_jobs = -1\n",
    ")  \n",
    "grid_search_rf.fit(X_train, y_train) \n",
    "print('f1 train score: {:.2f}'.format(metrics.f1_score(y_test, grid_search_rf.predict(X_test))))\n",
    "print('best hyperparameter values: {}'.format(grid_search_rf.best_params_))"
   ]
  },
  {
   "cell_type": "markdown",
   "metadata": {},
   "source": [
    "#### Подбор гиперпараметров с помощью RandomizedSearchCV"
   ]
  },
  {
   "cell_type": "code",
   "execution_count": 55,
   "metadata": {},
   "outputs": [
    {
     "name": "stdout",
     "output_type": "stream",
     "text": [
      "f1 train score: 0.83\n",
      "best hyperparameter values: {'n_estimators': 130, 'min_samples_leaf': 5, 'max_depth': 15}\n"
     ]
    }
   ],
   "source": [
    "param_distributions = {\n",
    "    'n_estimators': list(range(100, 200, 30)),\n",
    "    'min_samples_leaf': [5, 7],\n",
    "    'max_depth': [10, 15, 20 ,25]\n",
    "}\n",
    "random_search_rf = RandomizedSearchCV(\n",
    "    estimator=ensemble.RandomForestClassifier(random_state=42),\n",
    "    param_distributions=param_distributions,\n",
    "    cv=5,\n",
    "    n_iter=10, \n",
    "    n_jobs=-1\n",
    ")\n",
    "random_search_rf.fit(X_train, y_train)\n",
    "print('f1 train score: {:.2f}'.format(metrics.f1_score(y_test, random_search_rf.predict(X_test))))\n",
    "print('best hyperparameter values: {}'.format(random_search_rf.best_params_))"
   ]
  },
  {
   "cell_type": "markdown",
   "metadata": {},
   "source": [
    "#### Подбор гиперпараметров с помощью библиотеки Hyperopt"
   ]
  },
  {
   "cell_type": "code",
   "execution_count": 56,
   "metadata": {},
   "outputs": [],
   "source": [
    "random_state = 42\n",
    "\n",
    "space = {\n",
    "    'n_estimators': hp.quniform('n_estimators', 100, 300, 10),\n",
    "    'max_depth': hp.quniform('max_depth', 15, 40, 1),\n",
    "    'min_samples_leaf': hp.quniform('min_samples_leaf', 3, 7, 1)\n",
    "}"
   ]
  },
  {
   "cell_type": "code",
   "execution_count": 59,
   "metadata": {},
   "outputs": [],
   "source": [
    "def hyperopt_rf(params, cv=5, X=X_train, y=y_train, random_state = random_state):\n",
    "    params = {\n",
    "        'n_estimators': int(params['n_estimators']),\n",
    "        'max_depth': int(params['max_depth']),\n",
    "        'min_samples_leaf': int(params['min_samples_leaf'])\n",
    "    }\n",
    "    model = ensemble.RandomForestClassifier(**params, random_state=random_state)\n",
    "    model.fit(X, y)\n",
    "    score = cross_val_score(model, X, y, cv=5, scoring='f1', n_jobs=-1).mean()\n",
    "    return -score"
   ]
  },
  {
   "cell_type": "code",
   "execution_count": 60,
   "metadata": {},
   "outputs": [
    {
     "name": "stdout",
     "output_type": "stream",
     "text": [
      "100%|██████████| 20/20 [01:30<00:00,  4.53s/trial, best loss: -0.806936534807253]\n",
      "best hyperparameter values{'max_depth': 22.0, 'min_samples_leaf': 3.0, 'n_estimators': 200.0}\n"
     ]
    }
   ],
   "source": [
    "trials = Trials()\n",
    "\n",
    "best = fmin(\n",
    "    hyperopt_rf,\n",
    "    space=space,\n",
    "    algo=tpe.suggest,\n",
    "    max_evals=20,\n",
    "    trials=trials,\n",
    "    rstate=np.random.default_rng(random_state)\n",
    ")\n",
    "print(f'best hyperparameter values{best}')"
   ]
  },
  {
   "cell_type": "code",
   "execution_count": 61,
   "metadata": {},
   "outputs": [
    {
     "name": "stdout",
     "output_type": "stream",
     "text": [
      "f1 test score: 0.84\n"
     ]
    }
   ],
   "source": [
    "model_hyperopt_rf = ensemble.RandomForestClassifier(\n",
    "    random_state=random_state, \n",
    "    n_estimators=int(best['n_estimators']),\n",
    "    max_depth=int(best['max_depth']),\n",
    "    min_samples_leaf=int(best['min_samples_leaf'])\n",
    ")\n",
    "model_hyperopt_rf.fit(X_train, y_train)\n",
    "print('f1 test score: {:.2f}'.format(metrics.f1_score(y_test, model_hyperopt_rf.predict(X_test))))"
   ]
  },
  {
   "cell_type": "markdown",
   "metadata": {},
   "source": [
    "#### Подбор гиперпараметров с помощью библиотеки Optuna"
   ]
  },
  {
   "cell_type": "code",
   "execution_count": 62,
   "metadata": {},
   "outputs": [],
   "source": [
    "def optuna_rf(trial):\n",
    "  n_estimators = trial.suggest_int('n_estimators', 100, 300, 10)\n",
    "  max_depth = trial.suggest_int('max_depth', 15, 40, 1)\n",
    "  min_samples_leaf = trial.suggest_int('min_samples_leaf', 3, 7, 1)\n",
    "\n",
    "  model = ensemble.RandomForestClassifier(n_estimators=n_estimators,\n",
    "                                          max_depth=max_depth,\n",
    "                                          min_samples_leaf=min_samples_leaf,\n",
    "                                          random_state=random_state)\n",
    "  \n",
    "  model.fit(X_train, y_train)\n",
    "  score = cross_val_score(model, X_train, y_train, cv=5, scoring='f1', n_jobs=-1).mean()\n",
    "\n",
    "  return score"
   ]
  },
  {
   "cell_type": "code",
   "execution_count": 63,
   "metadata": {},
   "outputs": [
    {
     "name": "stderr",
     "output_type": "stream",
     "text": [
      "[I 2024-06-19 16:02:40,104] A new study created in memory with name: RandomForestClassifier\n",
      "[I 2024-06-19 16:02:43,369] Trial 0 finished with value: 0.8101733070737465 and parameters: {'n_estimators': 120, 'max_depth': 16, 'min_samples_leaf': 3}. Best is trial 0 with value: 0.8101733070737465.\n",
      "[I 2024-06-19 16:02:48,103] Trial 1 finished with value: 0.8013943713980026 and parameters: {'n_estimators': 190, 'max_depth': 39, 'min_samples_leaf': 4}. Best is trial 0 with value: 0.8101733070737465.\n",
      "[I 2024-06-19 16:02:52,587] Trial 2 finished with value: 0.8020087808027588 and parameters: {'n_estimators': 180, 'max_depth': 23, 'min_samples_leaf': 5}. Best is trial 0 with value: 0.8101733070737465.\n",
      "[I 2024-06-19 16:02:56,509] Trial 3 finished with value: 0.7976112308785548 and parameters: {'n_estimators': 170, 'max_depth': 38, 'min_samples_leaf': 6}. Best is trial 0 with value: 0.8101733070737465.\n",
      "[I 2024-06-19 16:03:01,484] Trial 4 finished with value: 0.8013943713980026 and parameters: {'n_estimators': 190, 'max_depth': 36, 'min_samples_leaf': 4}. Best is trial 0 with value: 0.8101733070737465.\n",
      "[I 2024-06-19 16:03:06,651] Trial 5 finished with value: 0.7982052928850817 and parameters: {'n_estimators': 230, 'max_depth': 33, 'min_samples_leaf': 7}. Best is trial 0 with value: 0.8101733070737465.\n",
      "[I 2024-06-19 16:03:09,312] Trial 6 finished with value: 0.8002002210227536 and parameters: {'n_estimators': 110, 'max_depth': 29, 'min_samples_leaf': 7}. Best is trial 0 with value: 0.8101733070737465.\n",
      "[I 2024-06-19 16:03:16,032] Trial 7 finished with value: 0.8049425925760648 and parameters: {'n_estimators': 240, 'max_depth': 31, 'min_samples_leaf': 3}. Best is trial 0 with value: 0.8101733070737465.\n",
      "[I 2024-06-19 16:03:22,680] Trial 8 finished with value: 0.8071130809195672 and parameters: {'n_estimators': 270, 'max_depth': 17, 'min_samples_leaf': 4}. Best is trial 0 with value: 0.8101733070737465.\n",
      "[I 2024-06-19 16:03:28,932] Trial 9 finished with value: 0.7983057250603196 and parameters: {'n_estimators': 270, 'max_depth': 38, 'min_samples_leaf': 7}. Best is trial 0 with value: 0.8101733070737465.\n",
      "[I 2024-06-19 16:03:31,913] Trial 10 finished with value: 0.8020962140311697 and parameters: {'n_estimators': 100, 'max_depth': 15, 'min_samples_leaf': 3}. Best is trial 0 with value: 0.8101733070737465.\n",
      "[I 2024-06-19 16:03:39,372] Trial 11 finished with value: 0.8065971115291155 and parameters: {'n_estimators': 300, 'max_depth': 15, 'min_samples_leaf': 4}. Best is trial 0 with value: 0.8101733070737465.\n",
      "[I 2024-06-19 16:03:43,279] Trial 12 finished with value: 0.8075974925192595 and parameters: {'n_estimators': 140, 'max_depth': 21, 'min_samples_leaf': 3}. Best is trial 0 with value: 0.8101733070737465.\n",
      "[I 2024-06-19 16:03:47,161] Trial 13 finished with value: 0.8067633580050286 and parameters: {'n_estimators': 140, 'max_depth': 22, 'min_samples_leaf': 3}. Best is trial 0 with value: 0.8101733070737465.\n",
      "[I 2024-06-19 16:03:50,672] Trial 14 finished with value: 0.8001758480597518 and parameters: {'n_estimators': 140, 'max_depth': 20, 'min_samples_leaf': 5}. Best is trial 0 with value: 0.8101733070737465.\n",
      "[I 2024-06-19 16:03:54,476] Trial 15 finished with value: 0.8057440288183326 and parameters: {'n_estimators': 130, 'max_depth': 25, 'min_samples_leaf': 3}. Best is trial 0 with value: 0.8101733070737465.\n",
      "[I 2024-06-19 16:03:59,058] Trial 16 finished with value: 0.8060004685785008 and parameters: {'n_estimators': 160, 'max_depth': 19, 'min_samples_leaf': 3}. Best is trial 0 with value: 0.8101733070737465.\n",
      "[I 2024-06-19 16:04:02,079] Trial 17 finished with value: 0.7966373283415219 and parameters: {'n_estimators': 120, 'max_depth': 26, 'min_samples_leaf': 6}. Best is trial 0 with value: 0.8101733070737465.\n",
      "[I 2024-06-19 16:04:05,924] Trial 18 finished with value: 0.7977129591516477 and parameters: {'n_estimators': 150, 'max_depth': 19, 'min_samples_leaf': 5}. Best is trial 0 with value: 0.8101733070737465.\n",
      "[I 2024-06-19 16:04:11,291] Trial 19 finished with value: 0.7997630352487126 and parameters: {'n_estimators': 210, 'max_depth': 22, 'min_samples_leaf': 4}. Best is trial 0 with value: 0.8101733070737465.\n"
     ]
    }
   ],
   "source": [
    "study = optuna.create_study(study_name=\"RandomForestClassifier\", direction=\"maximize\")\n",
    "study.optimize(optuna_rf, n_trials=20)"
   ]
  },
  {
   "cell_type": "code",
   "execution_count": 64,
   "metadata": {},
   "outputs": [
    {
     "name": "stdout",
     "output_type": "stream",
     "text": [
      "best hyperparameter values: {'n_estimators': 120, 'max_depth': 16, 'min_samples_leaf': 3}\n",
      "f1 train score: 0.81\n"
     ]
    }
   ],
   "source": [
    "print(f'best hyperparameter values: {study.best_params}')\n",
    "print('f1 train score: {:.2f}'.format(study.best_value))"
   ]
  },
  {
   "cell_type": "code",
   "execution_count": 65,
   "metadata": {},
   "outputs": [
    {
     "name": "stdout",
     "output_type": "stream",
     "text": [
      "f1 test score: 0.84\n"
     ]
    }
   ],
   "source": [
    "model_optuna_rf = ensemble.RandomForestClassifier(**study.best_params, random_state=random_state)\n",
    "model_optuna_rf.fit(X_train, y_train)\n",
    "print('f1 test score: {:.2f}'.format(metrics.f1_score(y_test, model_optuna_rf.predict(X_test))))"
   ]
  }
 ],
 "metadata": {
  "kernelspec": {
   "display_name": "Python 3",
   "language": "python",
   "name": "python3"
  },
  "language_info": {
   "codemirror_mode": {
    "name": "ipython",
    "version": 3
   },
   "file_extension": ".py",
   "mimetype": "text/x-python",
   "name": "python",
   "nbconvert_exporter": "python",
   "pygments_lexer": "ipython3",
   "version": "3.9.10"
  }
 },
 "nbformat": 4,
 "nbformat_minor": 2
}
